{
 "cells": [
  {
   "cell_type": "markdown",
   "metadata": {},
   "source": [
    "# Project 1\n",
    "## Sky Cen"
   ]
  },
  {
   "cell_type": "code",
   "execution_count": 1,
   "metadata": {},
   "outputs": [],
   "source": [
    "import numpy as np\n",
    "import matplotlib.pyplot as plt\n",
    "from tqdm import tqdm"
   ]
  },
  {
   "cell_type": "markdown",
   "metadata": {},
   "source": [
    "Store training and test data"
   ]
  },
  {
   "cell_type": "code",
   "execution_count": 2,
   "metadata": {},
   "outputs": [],
   "source": [
    "training_file = \"textA.txt\"\n",
    "test_file = \"textB.txt\"\n",
    "\n",
    "def store_data(file_name):\n",
    "    f = open(file_name, \"r\")\n",
    "    text = f.read()\n",
    "    data = [26 if ord(c) == 32 else ord(c) - 97 for c in list(text)]\n",
    "    return data\n",
    "\n",
    "train = np.array(store_data(training_file)[:-1])\n",
    "test = np.array(store_data(test_file)[:-1])\n"
   ]
  },
  {
   "cell_type": "markdown",
   "metadata": {},
   "source": [
    "Initialize transition and emission probability matrices"
   ]
  },
  {
   "cell_type": "code",
   "execution_count": 3,
   "metadata": {},
   "outputs": [],
   "source": [
    "A = np.array([[0.49, 0.51], \n",
    "              [0.51, 0.49]])\n",
    "B = np.zeros((27, 2, 2))\n",
    "B[0:13] = np.array([[0.0370, 0.0371],\n",
    "                   [0.0370, 0.0371]])\n",
    "B[13:26] = np.array([[0.0371, 0.0370],\n",
    "                    [0.0371, 0.0370]])\n",
    "B[26] = np.array([[0.0367, 0.0367],\n",
    "                 [0.0367, 0.0367]])"
   ]
  },
  {
   "cell_type": "markdown",
   "metadata": {},
   "source": [
    "Define forward and backward algorithm"
   ]
  },
  {
   "cell_type": "code",
   "execution_count": 4,
   "metadata": {},
   "outputs": [],
   "source": [
    "def forward(A, B, alpha_0, data):\n",
    "    alphas = np.zeros((len(data) + 1, len(alpha_0)))\n",
    "    alphas[0] = alpha_0\n",
    "\n",
    "    qs = np.zeros((len(data) + 1))\n",
    "    qs[0] = 1\n",
    "\n",
    "    for i in range(len(data)):\n",
    "        alphas[i + 1] = (np.multiply(A, B[data[i]]).T) @ alphas[i]\n",
    "        qs[i + 1] = np.sum(alphas[i + 1])\n",
    "        alphas[i + 1] = alphas[i + 1] / qs[i + 1]\n",
    "\n",
    "    return alphas, qs\n",
    "\n",
    "\n",
    "def backward(A, B, data, qs):\n",
    "    beta_n = np.ones(A.shape[0])\n",
    "    betas = np.zeros((len(data) + 1, len(beta_n)))\n",
    "    betas[-1] = beta_n\n",
    "\n",
    "    for i in range(len(data) - 1, -1, -1):\n",
    "        betas[i] = ((np.multiply(A, B[data[i]])) @ betas[i + 1]) / qs[i]\n",
    "\n",
    "    return betas\n",
    "\n",
    "\n",
    "def unnormalize_alphas(alphas, qs):\n",
    "    assert alphas.shape[0] == len(qs)\n",
    "\n",
    "    unnormalized_probs = np.zeros_like(alphas)\n",
    "\n",
    "    prod_qs = 1\n",
    "    for i in range(len(qs)):\n",
    "        prod_qs *= qs[i]\n",
    "        unnormalized_probs[i] = alphas[i] * prod_qs\n",
    "    \n",
    "    return unnormalized_probs\n",
    "\n",
    "\n",
    "def unnormalize_betas(betas, qs):\n",
    "    assert betas.shape[0] == len(qs)\n",
    "\n",
    "    unnormalized_probs = np.zeros_like(betas)\n",
    "    unnormalized_probs[-1] = betas[-1]\n",
    "\n",
    "    prod_qs = 1\n",
    "\n",
    "    for i in range(len(qs) - 2, -1, -1):\n",
    "        prod_qs *= qs[i]\n",
    "        unnormalized_probs[i] = betas[i] * prod_qs\n",
    "    \n",
    "    return unnormalized_probs\n",
    "\n",
    "# # test\n",
    "# A = np.array([[1/2, 1/6, 1/6], [0, 0, 1/3], [3/4, 1/4, 0]])\n",
    "# B = np.array([[[1, 1/2, 1], [0, 0, 1/3], [0, 0, 0]], [[0, 1/2, 0], [0, 0, 2/3], [1, 1, 0]]])\n",
    "# alphas, qs = forward(A, B, np.array([1, 0, 0]), [0, 1, 1, 0])\n",
    "# betas = backward(A, B, [0, 1, 1, 0], qs)\n",
    "\n",
    "# print(alphas)\n",
    "# print(betas)\n",
    "\n",
    "# u_alphas = unnormalize_alphas(alphas, qs)\n",
    "# u_betas = unnormalize_betas(betas, qs)\n",
    "# marginal = np.sum(u_alphas[-1])\n",
    "\n",
    "# print(marginal)\n",
    "\n",
    "# assert np.isclose(np.prod(qs), marginal)\n",
    "# assert np.isclose(u_betas[0][0], marginal)\n",
    "\n",
    "# for i in range(len(alphas)):\n",
    "#     assert np.isclose(np.sum(u_alphas[i] * u_betas[i]), marginal)"
   ]
  },
  {
   "cell_type": "markdown",
   "metadata": {},
   "source": [
    "Define Baum-Welch algorithm"
   ]
  },
  {
   "cell_type": "code",
   "execution_count": 5,
   "metadata": {},
   "outputs": [],
   "source": [
    "def baum_welch(A, B, data, iterations):\n",
    "    \n",
    "    log_probs = []\n",
    "    for x in tqdm(range(iterations)):\n",
    "        alpha_0 = np.array(A.shape[0] * [1 / A.shape[0]])\n",
    "        # alpha_0 = np.array([1, 0, 0])\n",
    "        alphas, qs = forward(A, B, alpha_0, data)\n",
    "        betas = backward(A, B, data, qs)\n",
    "\n",
    "        soft_counts = np.zeros((A.shape[0], A.shape[1], B.shape[0]))\n",
    "\n",
    "        for i in range(len(data)):\n",
    "            trans_emiss = np.multiply(A, B[data[i]])\n",
    "            \n",
    "            for j in range(trans_emiss.shape[0]):\n",
    "                for k in range(trans_emiss.shape[1]):\n",
    "                    soft_counts[j][k][data[i]] += alphas[i][j] * trans_emiss[j][k] * betas[i + 1][k]\n",
    "        \n",
    "        c_mn = np.sum(soft_counts, axis=2, keepdims=True)\n",
    "\n",
    "        # for i in range(soft_counts.shape[0]):\n",
    "        #     for j in range(soft_counts.shape[1]):\n",
    "        #         for k in range(soft_counts.shape[2]):\n",
    "        #             if soft_counts[i][j][k] == 0 or c_mn[i][j] == 0:\n",
    "        #                 B[k][i][j] = 0\n",
    "        #             else:\n",
    "        #                 B[k][i][j] = soft_counts[i][j][k] / c_mn[i][j]\n",
    "        B = np.where(c_mn == 0, 0, soft_counts / c_mn)\n",
    "        B = np.transpose(B, (2, 0, 1))\n",
    "        \n",
    "        c_m = np.sum(c_mn, axis=1, keepdims=True)\n",
    "\n",
    "        # for i in range(c_mn.shape[0]):\n",
    "        #     for j in range(c_mn.shape[1]):\n",
    "        #         if c_mn[i][j] == 0 or c_m[i] == 0:\n",
    "        #             A[i][j] = 0\n",
    "        #         else:\n",
    "        #             A[i][j] = c_mn[i][j] / c_m[i]\n",
    "        A = np.where(c_m == 0, 0, c_mn/ c_m)\n",
    "        A = np.squeeze(A)\n",
    "\n",
    "        log_prob = np.sum(np.log(qs))\n",
    "        log_probs.append(log_prob / len(data))\n",
    "    \n",
    "    return A, B, log_probs\n",
    "\n",
    "# # test\n",
    "# A = np.array([[1/2, 1/6, 1/6], [0, 0, 1/3], [3/4, 1/4, 0]])\n",
    "# B = np.array([[[1, 1/2, 1], [0, 0, 1/3], [0, 0, 0]], [[0, 1/2, 0], [0, 0, 2/3], [1, 1, 0]]])\n",
    "\n",
    "# baum_welch(A, B, [0, 1, 1, 0], 1)"
   ]
  },
  {
   "cell_type": "markdown",
   "metadata": {},
   "source": [
    "Train for 600 iterations"
   ]
  },
  {
   "cell_type": "code",
   "execution_count": 6,
   "metadata": {},
   "outputs": [
    {
     "name": "stderr",
     "output_type": "stream",
     "text": [
      "  0%|          | 0/600 [00:00<?, ?it/s]"
     ]
    },
    {
     "name": "stderr",
     "output_type": "stream",
     "text": [
      "100%|██████████| 600/600 [02:41<00:00,  3.71it/s]\n"
     ]
    }
   ],
   "source": [
    "A, B, log_probs = baum_welch(A, B, train, 600)\n",
    "assert all(x <= y for x, y in zip(log_probs, log_probs[1:]))"
   ]
  },
  {
   "cell_type": "markdown",
   "metadata": {},
   "source": [
    "Plot average log-probabilities"
   ]
  },
  {
   "cell_type": "code",
   "execution_count": 7,
   "metadata": {},
   "outputs": [
    {
     "data": {
      "image/png": "[encoded data removed]",
      "text/plain": [
       "<Figure size 800x500 with 1 Axes>"
      ]
     },
     "metadata": {},
     "output_type": "display_data"
    }
   ],
   "source": [
    "plt.figure(figsize=(8, 5))\n",
    "iterations = range(1, len(log_probs) + 1)\n",
    "plt.plot(iterations, log_probs, marker='.', linestyle='-', label=\"Average Log Likelihood\")\n",
    "\n",
    "plt.xlabel(\"Iterations\")\n",
    "plt.ylabel(\"Average Log Likelihood\")\n",
    "plt.title(\"Average Log Likelihood Over Iterations\")\n",
    "plt.legend()\n",
    "plt.grid(True)\n",
    "\n",
    "plt.show()"
   ]
  },
  {
   "cell_type": "code",
   "execution_count": 8,
   "metadata": {},
   "outputs": [
    {
     "name": "stdout",
     "output_type": "stream",
     "text": [
      "[[0.00413215 0.11619609]\n",
      " [0.01732271 0.12718325]]\n",
      "[[5.26088486e-003 7.28899726e-225]\n",
      " [7.45686559e-002 1.67140909e-001]]\n"
     ]
    }
   ],
   "source": [
    "# print(A)\n",
    "# print(B)\n",
    "# print(log_probs[-1])\n",
    "print(B[0])\n",
    "print(B[13])"
   ]
  }
 ],
 "metadata": {
  "kernelspec": {
   "display_name": "mldl",
   "language": "python",
   "name": "python3"
  },
  "language_info": {
   "codemirror_mode": {
    "name": "ipython",
    "version": 3
   },
   "file_extension": ".py",
   "mimetype": "text/x-python",
   "name": "python",
   "nbconvert_exporter": "python",
   "pygments_lexer": "ipython3",
   "version": "3.12.7"
  }
 },
 "nbformat": 4,
 "nbformat_minor": 2
}
