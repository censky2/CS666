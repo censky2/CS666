{
 "cells": [
  {
   "cell_type": "markdown",
   "metadata": {},
   "source": [
    "# Project 1\n",
    "## Sky Cen"
   ]
  },
  {
   "cell_type": "code",
   "execution_count": 1,
   "metadata": {},
   "outputs": [],
   "source": [
    "import numpy as np\n",
    "import matplotlib.pyplot as plt\n",
    "from tqdm import tqdm"
   ]
  },
  {
   "cell_type": "markdown",
   "metadata": {},
   "source": [
    "Store training and test data"
   ]
  },
  {
   "cell_type": "code",
   "execution_count": 2,
   "metadata": {},
   "outputs": [],
   "source": [
    "training_file = \"textA.txt\"\n",
    "test_file = \"textB.txt\"\n",
    "\n",
    "def store_data(file_name):\n",
    "    f = open(file_name, \"r\")\n",
    "    text = f.read()\n",
    "    data = [26 if ord(c) == 32 else ord(c) - 97 for c in list(text)]\n",
    "    return data\n",
    "\n",
    "train = np.array(store_data(training_file)[:-1])\n",
    "test = np.array(store_data(test_file)[:-1])\n"
   ]
  },
  {
   "cell_type": "markdown",
   "metadata": {},
   "source": [
    "Initialize transition and emission probability matrices"
   ]
  },
  {
   "cell_type": "code",
   "execution_count": null,
   "metadata": {},
   "outputs": [],
   "source": [
    "def init_hmm(num_states):\n",
    "    if num_states == 2:\n",
    "        A = np.array([[0.49, 0.51], \n",
    "                    [0.51, 0.49]])\n",
    "        B = np.zeros((27, 2, 2))\n",
    "        B[0:13] = np.array([[0.0370, 0.0371],\n",
    "                        [0.0370, 0.0371]])\n",
    "        B[13:26] = np.array([[0.0371, 0.0370],\n",
    "                            [0.0371, 0.0370]])\n",
    "        B[26] = np.array([[0.0367, 0.0367],\n",
    "                        [0.0367, 0.0367]])\n",
    "    return A, B"
   ]
  },
  {
   "cell_type": "markdown",
   "metadata": {},
   "source": [
    "Define forward and backward algorithm"
   ]
  },
  {
   "cell_type": "code",
   "execution_count": 4,
   "metadata": {},
   "outputs": [],
   "source": [
    "def forward(A, B, alpha_0, data):\n",
    "    alphas = np.zeros((len(data) + 1, len(alpha_0)))\n",
    "    alphas[0] = alpha_0\n",
    "\n",
    "    qs = np.zeros((len(data) + 1))\n",
    "    qs[0] = 1\n",
    "\n",
    "    for i in range(len(data)):\n",
    "        alphas[i + 1] = (np.multiply(A, B[data[i]]).T) @ alphas[i]\n",
    "        qs[i + 1] = np.sum(alphas[i + 1])\n",
    "        alphas[i + 1] = alphas[i + 1] / qs[i + 1]\n",
    "\n",
    "    return alphas, qs\n",
    "\n",
    "\n",
    "def backward(A, B, data, qs):\n",
    "    beta_n = np.ones(A.shape[0])\n",
    "    betas = np.zeros((len(data) + 1, len(beta_n)))\n",
    "    betas[-1] = beta_n\n",
    "\n",
    "    for i in range(len(data) - 1, -1, -1):\n",
    "        betas[i] = ((np.multiply(A, B[data[i]])) @ betas[i + 1]) / qs[i]\n",
    "\n",
    "    return betas\n",
    "\n",
    "\n",
    "def unnormalize_alphas(alphas, qs):\n",
    "    assert alphas.shape[0] == len(qs)\n",
    "\n",
    "    unnormalized_probs = np.zeros_like(alphas)\n",
    "\n",
    "    prod_qs = 1\n",
    "    for i in range(len(qs)):\n",
    "        prod_qs *= qs[i]\n",
    "        unnormalized_probs[i] = alphas[i] * prod_qs\n",
    "    \n",
    "    return unnormalized_probs\n",
    "\n",
    "\n",
    "def unnormalize_betas(betas, qs):\n",
    "    assert betas.shape[0] == len(qs)\n",
    "\n",
    "    unnormalized_probs = np.zeros_like(betas)\n",
    "    unnormalized_probs[-1] = betas[-1]\n",
    "\n",
    "    prod_qs = 1\n",
    "\n",
    "    for i in range(len(qs) - 2, -1, -1):\n",
    "        prod_qs *= qs[i]\n",
    "        unnormalized_probs[i] = betas[i] * prod_qs\n",
    "    \n",
    "    return unnormalized_probs\n",
    "\n",
    "# # test\n",
    "# A = np.array([[1/2, 1/6, 1/6], [0, 0, 1/3], [3/4, 1/4, 0]])\n",
    "# B = np.array([[[1, 1/2, 1], [0, 0, 1/3], [0, 0, 0]], [[0, 1/2, 0], [0, 0, 2/3], [1, 1, 0]]])\n",
    "# alphas, qs = forward(A, B, np.array([1, 0, 0]), [0, 1, 1, 0])\n",
    "# betas = backward(A, B, [0, 1, 1, 0], qs)\n",
    "\n",
    "# print(alphas)\n",
    "# print(betas)\n",
    "\n",
    "# u_alphas = unnormalize_alphas(alphas, qs)\n",
    "# u_betas = unnormalize_betas(betas, qs)\n",
    "# marginal = np.sum(u_alphas[-1])\n",
    "\n",
    "# print(marginal)\n",
    "\n",
    "# assert np.isclose(np.prod(qs), marginal)\n",
    "# assert np.isclose(u_betas[0][0], marginal)\n",
    "\n",
    "# for i in range(len(alphas)):\n",
    "#     assert np.isclose(np.sum(u_alphas[i] * u_betas[i]), marginal)"
   ]
  },
  {
   "cell_type": "markdown",
   "metadata": {},
   "source": [
    "Define Baum-Welch algorithm"
   ]
  },
  {
   "cell_type": "code",
   "execution_count": null,
   "metadata": {},
   "outputs": [],
   "source": [
    "def baum_welch(A, B, train_data, test_data, letters, iterations):\n",
    "    \n",
    "    train_log_probs = []\n",
    "    test_log_probs = []\n",
    "    letters_emission = {}\n",
    "\n",
    "    for letter in letters:\n",
    "        letters_emission[letter] = []\n",
    "\n",
    "    for _ in tqdm(range(iterations)):\n",
    "        alpha_0 = np.array(A.shape[0] * [1 / A.shape[0]])\n",
    "        alphas, qs = forward(A, B, alpha_0, train_data)\n",
    "        betas = backward(A, B, train_data, qs)\n",
    "\n",
    "        _, test_qs = forward(A, B, alpha_0, test_data)\n",
    "\n",
    "        soft_counts = np.zeros((A.shape[0], A.shape[1], B.shape[0]))\n",
    "\n",
    "        for key in letters_emission.keys():\n",
    "            letters_emission[key].append(B[key])\n",
    "\n",
    "        for i in range(len(train_data)):\n",
    "            trans_emiss = np.multiply(A, B[train_data[i]])\n",
    "            \n",
    "            for j in range(trans_emiss.shape[0]):\n",
    "                for k in range(trans_emiss.shape[1]):\n",
    "                    soft_counts[j][k][train_data[i]] += alphas[i][j] * trans_emiss[j][k] * betas[i + 1][k]\n",
    "        \n",
    "        c_mn = np.sum(soft_counts, axis=2, keepdims=True)\n",
    "\n",
    "        # for i in range(soft_counts.shape[0]):\n",
    "        #     for j in range(soft_counts.shape[1]):\n",
    "        #         for k in range(soft_counts.shape[2]):\n",
    "        #             if soft_counts[i][j][k] == 0 or c_mn[i][j] == 0:\n",
    "        #                 B[k][i][j] = 0\n",
    "        #             else:\n",
    "        #                 B[k][i][j] = soft_counts[i][j][k] / c_mn[i][j]\n",
    "        B = np.where(c_mn == 0, 0, soft_counts / c_mn)\n",
    "        B = np.transpose(B, (2, 0, 1))\n",
    "        \n",
    "        c_m = np.sum(c_mn, axis=1, keepdims=True)\n",
    "\n",
    "        # for i in range(c_mn.shape[0]):\n",
    "        #     for j in range(c_mn.shape[1]):\n",
    "        #         if c_mn[i][j] == 0 or c_m[i] == 0:\n",
    "        #             A[i][j] = 0\n",
    "        #         else:\n",
    "        #             A[i][j] = c_mn[i][j] / c_m[i]\n",
    "        A = np.where(c_m == 0, 0, c_mn / c_m)\n",
    "        A = np.squeeze(A)\n",
    "\n",
    "        train_log_prob = np.sum(np.log(qs))\n",
    "        train_log_probs.append(train_log_prob / len(train_data))\n",
    "\n",
    "        test_log_prob = np.sum(np.log(test_qs))\n",
    "        test_log_probs.append(test_log_prob / len(test_data))\n",
    "    \n",
    "    return A, B, train_log_probs, test_log_probs, letters_emission\n",
    "\n",
    "# # test\n",
    "# A = np.array([[1/2, 1/6, 1/6], [0, 0, 1/3], [3/4, 1/4, 0]])\n",
    "# B = np.array([[[1, 1/2, 1], [0, 0, 1/3], [0, 0, 0]], [[0, 1/2, 0], [0, 0, 2/3], [1, 1, 0]]])\n",
    "\n",
    "# baum_welch(A, B, [0, 1, 1, 0], 1)"
   ]
  },
  {
   "cell_type": "markdown",
   "metadata": {},
   "source": [
    "Train for 600 iterations"
   ]
  },
  {
   "cell_type": "code",
   "execution_count": null,
   "metadata": {},
   "outputs": [
    {
     "name": "stderr",
     "output_type": "stream",
     "text": [
      "100%|██████████| 600/600 [15:31<00:00,  1.55s/it]\n"
     ]
    }
   ],
   "source": [
    "A, B = init_hmm(2)\n",
    "letters = [0, 1, 2, 13, 14, 15]\n",
    "A, B, train_log_probs, test_log_probs, letters_emission = baum_welch(A, B, train, test, letters, 600)\n",
    "assert all(x <= y for x, y in zip(train_log_probs, train_log_probs[1:]))"
   ]
  },
  {
   "cell_type": "markdown",
   "metadata": {},
   "source": [
    "Plot average log-probabilities of train and test data"
   ]
  },
  {
   "cell_type": "code",
   "execution_count": 30,
   "metadata": {},
   "outputs": [
    {
     "data": {
      "image/png": "[encoded data removed]",
      "text/plain": [
       "<Figure size 800x500 with 1 Axes>"
      ]
     },
     "metadata": {},
     "output_type": "display_data"
    }
   ],
   "source": [
    "plt.figure(figsize=(8, 5))\n",
    "iterations = range(1, len(train_log_probs) + 1)\n",
    "plt.plot(iterations, train_log_probs, linestyle='-', label=\"Average Train Log Likelihood\", color='green')\n",
    "plt.plot(iterations, test_log_probs, linestyle='-', label=\"Average Test Log Likelihood\", color='red')\n",
    "\n",
    "plt.xlabel(\"Iterations\")\n",
    "plt.ylabel(\"Average Log Likelihood\")\n",
    "plt.title(\"Average Log Likelihood Over Iterations\")\n",
    "plt.legend()\n",
    "plt.grid(True)\n",
    "\n",
    "plt.show()"
   ]
  },
  {
   "cell_type": "markdown",
   "metadata": {},
   "source": [
    "Plot emission probabilities of a few particular letters"
   ]
  },
  {
   "cell_type": "code",
   "execution_count": null,
   "metadata": {},
   "outputs": [
    {
     "name": "stdout",
     "output_type": "stream",
     "text": [
      "[[[4.13215092e-003 1.16196091e-001]\n",
      "  [1.73227057e-002 1.27183253e-001]]\n",
      "\n",
      " [[7.98592483e-004 3.59731867e-217]\n",
      "  [3.23548057e-002 6.90023640e-003]]\n",
      "\n",
      " [[4.92388377e-015 5.49598901e-004]\n",
      "  [7.10918216e-002 2.36957883e-002]]\n",
      "\n",
      " [[7.42340132e-003 1.86798364e-082]\n",
      "  [9.62825949e-002 9.68662547e-003]]\n",
      "\n",
      " [[3.05389532e-001 1.49887852e-001]\n",
      "  [1.48266606e-054 5.62681066e-002]]\n",
      "\n",
      " [[4.15384128e-003 2.71339389e-254]\n",
      "  [4.75256889e-002 7.15813744e-003]]\n",
      "\n",
      " [[5.59682920e-003 1.05424362e-231]\n",
      "  [3.69974933e-002 6.12867575e-003]]\n",
      "\n",
      " [[2.09919202e-001 1.44854604e-121]\n",
      "  [2.03818578e-002 1.45643633e-132]]\n",
      "\n",
      " [[3.03029335e-003 1.21668449e-001]\n",
      "  [7.44549948e-004 9.18484506e-002]]\n",
      "\n",
      " [[3.18209129e-004 3.76749776e-255]\n",
      "  [7.49961508e-003 5.83943266e-004]]\n",
      "\n",
      " [[5.08842019e-003 1.31722758e-091]\n",
      "  [1.07281019e-002 3.73077196e-004]]\n",
      "\n",
      " [[4.67789441e-002 2.55142197e-196]\n",
      "  [5.71902645e-002 7.63449553e-002]]\n",
      "\n",
      " [[2.08783842e-002 3.46569319e-198]\n",
      "  [3.65485038e-002 2.16075034e-002]]\n",
      "\n",
      " [[5.26088486e-003 7.28899726e-225]\n",
      "  [7.45686559e-002 1.67140909e-001]]\n",
      "\n",
      " [[8.57906586e-002 8.53750959e-002]\n",
      "  [3.72043949e-141 1.40427838e-001]]\n",
      "\n",
      " [[4.85559554e-062 5.31876814e-135]\n",
      "  [3.19131253e-002 5.00822225e-002]]\n",
      "\n",
      " [[6.36467712e-055 1.81641649e-257]\n",
      "  [2.41198520e-003 3.68630337e-225]]\n",
      "\n",
      " [[6.50056752e-002 7.35801786e-070]\n",
      "  [8.43541849e-002 8.98237409e-002]]\n",
      "\n",
      " [[8.15672643e-002 1.26373444e-063]\n",
      "  [9.58116466e-002 6.85954362e-002]]\n",
      "\n",
      " [[6.97567354e-002 2.58740808e-028]\n",
      "  [1.96433885e-001 4.31265180e-020]]\n",
      "\n",
      " [[7.94046056e-003 4.03319175e-002]\n",
      "  [5.91443323e-211 4.63523720e-002]]\n",
      "\n",
      " [[8.32954429e-018 0.00000000e+000]\n",
      "  [2.33480167e-002 0.00000000e+000]]\n",
      "\n",
      " [[6.81285683e-003 1.35806116e-217]\n",
      "  [3.54662535e-002 2.30613000e-016]]\n",
      "\n",
      " [[1.19274500e-252 1.06091264e-251]\n",
      "  [4.34784668e-003 7.85562436e-003]]\n",
      "\n",
      " [[5.96361448e-002 2.93717179e-055]\n",
      "  [1.54386985e-002 3.36072347e-004]]\n",
      "\n",
      " [[2.71481312e-004 1.19847903e-037]\n",
      "  [1.23769886e-003 5.08978543e-167]]\n",
      "\n",
      " [[4.45003825e-003 4.85990995e-001]\n",
      "  [1.11316931e-029 1.60703238e-003]]]\n"
     ]
    }
   ],
   "source": []
  },
  {
   "cell_type": "markdown",
   "metadata": {},
   "source": [
    "Plot emission probability distributions of each state"
   ]
  },
  {
   "cell_type": "code",
   "execution_count": 28,
   "metadata": {},
   "outputs": [
    {
     "data": {
      "text/plain": [
       "<Figure size 3200x500 with 0 Axes>"
      ]
     },
     "metadata": {},
     "output_type": "display_data"
    },
    {
     "data": {
      "image/png": "[encoded data removed]",
      "text/plain": [
       "<Figure size 640x480 with 2 Axes>"
      ]
     },
     "metadata": {},
     "output_type": "display_data"
    }
   ],
   "source": [
    "temp = np.transpose(B, (0, 2, 1))\n",
    "\n",
    "emission1 = np.reshape(temp[:, 0, :], -1)\n",
    "emission2 = np.reshape(temp[:, 1, :], -1)\n",
    "\n",
    "plt.figure(figsize=(32, 5))\n",
    "figure, axis = plt.subplots(1, 2)\n",
    "axis[0].bar(range(len(emission1)), emission1)\n",
    "axis[1].bar(range(len(emission2)), emission2)\n",
    "plt.show()"
   ]
  },
  {
   "cell_type": "markdown",
   "metadata": {},
   "source": [
    "Analyze Updated Transition Matrix"
   ]
  },
  {
   "cell_type": "code",
   "execution_count": 29,
   "metadata": {},
   "outputs": [
    {
     "name": "stdout",
     "output_type": "stream",
     "text": [
      "[[0.29394323 0.70605677]\n",
      " [0.67650637 0.32349363]]\n"
     ]
    }
   ],
   "source": [
    "print(A)"
   ]
  },
  {
   "cell_type": "markdown",
   "metadata": {},
   "source": [
    "The updated transition matrix probabilities show that the HMM prefers to transition between states rather than stay in the same state after each time step. This can be seen because the initial transition matrix is near uniform, but the updated transition matrix has signficantly lower values at row 1, col 1 and row 2, col 2. These probabilities represent self loop probabilities. "
   ]
  },
  {
   "cell_type": "markdown",
   "metadata": {},
   "source": []
  }
 ],
 "metadata": {
  "kernelspec": {
   "display_name": "nlp-class",
   "language": "python",
   "name": "python3"
  },
  "language_info": {
   "codemirror_mode": {
    "name": "ipython",
    "version": 3
   },
   "file_extension": ".py",
   "mimetype": "text/x-python",
   "name": "python",
   "nbconvert_exporter": "python",
   "pygments_lexer": "ipython3",
   "version": "3.9.19"
  }
 },
 "nbformat": 4,
 "nbformat_minor": 2
}
